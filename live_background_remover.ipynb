{
  "nbformat": 4,
  "nbformat_minor": 0,
  "metadata": {
    "colab": {
      "provenance": []
    },
    "kernelspec": {
      "name": "python3",
      "display_name": "Python 3"
    },
    "language_info": {
      "name": "python"
    }
  },
  "cells": [
    {
      "cell_type": "code",
      "execution_count": null,
      "metadata": {
        "id": "d-jrmNxw9lyo"
      },
      "outputs": [],
      "source": [
        "import cv2\n",
        "import numpy as np\n",
        "import mediapipe as mp"
      ]
    },
    {
      "cell_type": "code",
      "source": [
        "segm=mp.solutions.selfie_segmentation.SelfieSegmentation(model_selection=1)"
      ],
      "metadata": {
        "id": "GGk7Hhhk9nex"
      },
      "execution_count": null,
      "outputs": []
    },
    {
      "cell_type": "code",
      "source": [
        "background=cv2.imread('black_background.jpg')"
      ],
      "metadata": {
        "id": "LVs-2Rch9tuN"
      },
      "execution_count": null,
      "outputs": []
    },
    {
      "cell_type": "code",
      "source": [
        "cap=cv2.VideoCapture(0)"
      ],
      "metadata": {
        "id": "H6wzF55F94Jj"
      },
      "execution_count": null,
      "outputs": []
    },
    {
      "cell_type": "code",
      "source": [
        "while True:\n",
        "    ret,frame=cap.read()\n",
        "    h,w,channel=frame.shape\n",
        "    RGB=cv2.cvtColor(frame,cv2.COLOR_BGR2RGB)\n",
        "\n",
        "    results=segm.process(RGB)\n",
        "    mask=results.segmentation_mask\n",
        "\n",
        "    rsm=np.stack((mask,)*3,axis=-1)\n",
        "    condition=rsm>0.6\n",
        "    condition=np.reshape(condition,(h,w,3))\n",
        "\n",
        "    background=cv2.resize(background,(w,h))\n",
        "\n",
        "    output=np.where(condition,frame,background)\n",
        "\n",
        "    cv2.imshow('output',output)\n",
        "    if cv2.waitKey(1) & 0xFF ==ord('q'):\n",
        "        break"
      ],
      "metadata": {
        "id": "wiYOVAwS-B0j"
      },
      "execution_count": null,
      "outputs": []
    },
    {
      "cell_type": "code",
      "source": [
        "cap.release()\n",
        "cv2.destroyAllWindows()"
      ],
      "metadata": {
        "id": "fNqHBAOH-Cm_"
      },
      "execution_count": null,
      "outputs": []
    }
  ]
}